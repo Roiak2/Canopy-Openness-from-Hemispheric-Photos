{
 "cells": [
  {
   "cell_type": "markdown",
   "id": "deluxe-angola",
   "metadata": {},
   "source": [
    "# Batch Mode Demo Script\n",
    "\n",
    "This is a Jupyter Notebook working through the batch processing of images in the CanopyOpenness package\n",
    "It shows the user how to use the script\n",
    "\n",
    "## This script\n",
    "Runs BatchRun class object with instructions for user.\n",
    "\n",
    "  - 1) Get input of a directory of images from user and where dataframe will be saved\n",
    "  - 2) Runs BatchRun class object which:\n",
    "      - Lists of all jpg files within that directory\n",
    "      - Creates empty dataframe with image information (plot, subplot, date, exposure)\n",
    "      - Iterates through folder, running ImagePrep, FishEye, and CanOpen modules\n",
    "      - Saves openness metric as last column in the dataframe\n",
    "      - Saves dataframe as a csv in folder given by user\n",
    "  \n",
    " -----\n",
    " -----"
   ]
  },
  {
   "cell_type": "markdown",
   "id": "4827bb4c",
   "metadata": {},
   "source": [
    "## Setup\n",
    "\n",
    "Loading packages, setting logger levels"
   ]
  },
  {
   "cell_type": "code",
   "execution_count": null,
   "id": "korean-madison",
   "metadata": {},
   "outputs": [],
   "source": [
    "#Importing my package\n",
    "import CanopyOpenness\n",
    "from CanopyOpenness import ImageLoad\n",
    "from CanopyOpenness import FishEye\n",
    "from CanopyOpenness import CanOpen\n",
    "from CanopyOpenness import BatchRun \n",
    "#Importing packages\n",
    "import glob #helping identify files in pathfiles\n",
    "import os #finding pathfiles\n",
    "import pathlib #getting pathfiles\n",
    "import pandas as pd #pandas for dataframe manipulation\n",
    "import numpy as np #statistical calculations\n",
    "import natsort #batch loading of files\n",
    "import skimage #image manipulation\n",
    "from skimage import io #filepaths in skimage\n",
    "import warnings #warnings package\n",
    "from loguru import logger #Logger for debugging messages"
   ]
  },
  {
   "cell_type": "code",
   "execution_count": null,
   "id": "315bb371",
   "metadata": {},
   "outputs": [],
   "source": [
    "# Setting logging level\n",
    "CanopyOpenness.set_loglevel(\"DEBUG\")"
   ]
  },
  {
   "cell_type": "markdown",
   "id": "8bf37055",
   "metadata": {},
   "source": [
    "## Running BatchRun class object for batch processing"
   ]
  },
  {
   "cell_type": "code",
   "execution_count": null,
   "id": "9db737f5",
   "metadata": {},
   "outputs": [],
   "source": [
    "# Defining user input\n",
    "dirpath = './sample_photos/LFDP/2012/' #where photos are stored\n",
    "filepath = './Data/' #where dataframe will be saved\n",
    "filename = 'LFDP_2012.csv' #name of dataframe to be saved"
   ]
  },
  {
   "cell_type": "code",
   "execution_count": null,
   "id": "fab68e61",
   "metadata": {},
   "outputs": [],
   "source": [
    "# Running BatchRun class\n",
    "#    user inputs where images are stored, \n",
    "#    whether they want to save the dataframe output (defaults to false)\n",
    "#    and if so, where the dataframe is saved and what it's called\n",
    "\n",
    "doit = BatchRun.BatchRun(dirpath,filepath,filename,save=True)"
   ]
  },
  {
   "cell_type": "code",
   "execution_count": null,
   "id": "0fcd0ed6",
   "metadata": {},
   "outputs": [],
   "source": [
    "# Checking that the batch function worked\n",
    "df = doit.Batch()\n",
    "\n",
    "# Show dataframe\n",
    "df"
   ]
  },
  {
   "cell_type": "code",
   "execution_count": null,
   "id": "8c9d85bd",
   "metadata": {},
   "outputs": [],
   "source": [
    "# Checking saving function works\n",
    "df2 = doit.SaveDF() #running function \n",
    "\n",
    "# List files in Data folder to check saving worked\n",
    "data_files = [f for f in os.listdir(filepath) if f.endswith('csv')]\n",
    "\n",
    "# Show folder files\n",
    "data_files #works (LFDP_2012.csv)"
   ]
  },
  {
   "cell_type": "markdown",
   "id": "9ac25271",
   "metadata": {},
   "source": [
    "---\n",
    "---\n",
    "\n",
    "# Depreceated code showing function\n",
    "\n",
    "---\n",
    "---"
   ]
  },
  {
   "cell_type": "markdown",
   "id": "6bd07958",
   "metadata": {},
   "source": [
    "## Getting image files from directory\n",
    "\n",
    "Getting user input (filepath for directory containing image files.  \n",
    "Then saving each individual image as an item in a list.  \n",
    "Then creating a dataframe with metadata from image names, and an empty column to hold canopy openness values"
   ]
  },
  {
   "cell_type": "code",
   "execution_count": null,
   "id": "according-slovakia",
   "metadata": {},
   "outputs": [],
   "source": [
    "#Defining user input\n",
    "# filepath = './sample_photos/LFDP/2012/' #where photos are stored"
   ]
  },
  {
   "cell_type": "code",
   "execution_count": null,
   "id": "8e0bba60",
   "metadata": {},
   "outputs": [],
   "source": [
    "# #iterate through all images in the folder and save as a list\n",
    "# all_images = [f for f in os.listdir(filepath) if f.endswith('JPG')]\n",
    "\n",
    "# #sort the list\n",
    "# all_images.sort()\n",
    "\n",
    "# #check\n",
    "# all_images"
   ]
  },
  {
   "cell_type": "code",
   "execution_count": null,
   "id": "5f6d695c",
   "metadata": {},
   "outputs": [],
   "source": [
    "# # create an Empty DataFrame object\n",
    "# df = pd.DataFrame(columns=['Plot','Subplot','Date','Exposure','Openness'])\n",
    "\n",
    "# #split image by period to get different columns\n",
    "# df['Plot'] = [i.split('.')[0] for i in all_images]  # get first item in list of images\n",
    "# df['Subplot'] = [i.split('.')[1] for i in all_images]  # get subplot information (second item)\n",
    "# df['Date'] = [i.split('.')[2] for i in all_images]  # get date information (third item)\n",
    "# df['Exposure'] = [i.split('.')[3] for i in all_images]  # get exposure information (fourth item)\n",
    "\n",
    "# #check\n",
    "# df"
   ]
  },
  {
   "cell_type": "markdown",
   "id": "aaf2c100",
   "metadata": {},
   "source": [
    "## Batch processing function\n",
    "\n",
    "Code to create an empty list to hold openness values.  \n",
    "Then iterating over all the image files and running ImagePrep, FishEye, and CanOpen modules to calculate openness for each image.  \n",
    "Then storing those values in the empty column in the dataframe containing the image metadata.  \n",
    "Finally storing the resultant dataframe as a csv for the user"
   ]
  },
  {
   "cell_type": "code",
   "execution_count": null,
   "id": "e77c3f58",
   "metadata": {},
   "outputs": [],
   "source": [
    "# #create empty list to hold results\n",
    "# results = []\n",
    "\n",
    "# #iterate through list of images and run CanopyOpenness functions\n",
    "# for image in all_images:\n",
    "    \n",
    "#     #load image and threshold using isodata algorithm, don't plot, set to batch\n",
    "#     img = ImageLoad.ImagePrep(filepath,image,threshold_method=\"isodata\",plot=False,batch=True)\n",
    "#     #load image\n",
    "#     og = img.imageLoad()\n",
    "#     #turn blue \n",
    "#     blue = img.BluePic()\n",
    "#     #threshold algorithm and turn to black and white\n",
    "#     bw = img.bwPic()\n",
    "    \n",
    "#     #set fisheye coordinates for center lens, don't plot, set to batch\n",
    "#     fish = FishEye.FishEye(bw,plot=False,batch=True)\n",
    "#     #save image array with coordinates\n",
    "#     fishy = fish.CircleCoords()\n",
    "    \n",
    "#     #run canopy openness module, set to batch\n",
    "#     gfp = CanOpen.CanOpen(fishy,batch=True) #running module\n",
    "#     gaps=gfp.calc_gap_fractions() #calculating array of proportion sky for 89 sub-circles within fisheye lens\n",
    "#     openness=gfp.openness() #openness calculation\n",
    "    \n",
    "#     #print message to user\n",
    "#     print(\"Image\",image, \"processed\")\n",
    "\n",
    "#     #appending to result list\n",
    "#     results.append(openness)"
   ]
  },
  {
   "cell_type": "code",
   "execution_count": null,
   "id": "97bc74fe",
   "metadata": {},
   "outputs": [],
   "source": [
    "# #add values from result to the dataframe\n",
    "# df['Openness'] = results\n",
    "\n",
    "# #check\n",
    "# df"
   ]
  },
  {
   "cell_type": "code",
   "execution_count": null,
   "id": "7b1c03d6",
   "metadata": {},
   "outputs": [],
   "source": [
    "# #saving dataframe as a csv\n",
    "# df.to_csv(r'./Data/Batch_Test_Dataframe.csv', index = False)"
   ]
  }
 ],
 "metadata": {
  "kernelspec": {
   "display_name": "Python 3",
   "language": "python",
   "name": "python3"
  },
  "language_info": {
   "codemirror_mode": {
    "name": "ipython",
    "version": 3
   },
   "file_extension": ".py",
   "mimetype": "text/x-python",
   "name": "python",
   "nbconvert_exporter": "python",
   "pygments_lexer": "ipython3",
   "version": "3.8.5"
  }
 },
 "nbformat": 4,
 "nbformat_minor": 5
}
