{
 "cells": [
  {
   "cell_type": "markdown",
   "id": "deluxe-angola",
   "metadata": {},
   "source": [
    "# Batch Mode Demo Script\n",
    "\n",
    "This is a Jupyter Notebook working through the batch processing of images in the CanopyOpenness package\n",
    "It shows the user how to use the script\n",
    "\n",
    "## This script\n",
    "Runs BatchRun class object with instructions for user.\n",
    "\n",
    "  - 1) Get input of a directory of images from user and where dataframe will be saved\n",
    "  - 2) Runs BatchRun class object which:\n",
    "      - Lists of all jpg files within that directory\n",
    "      - Creates empty dataframe with image information (plot, subplot, date, exposure)\n",
    "      - Iterates through folder, running ImagePrep, FishEye, and CanOpen modules\n",
    "      - Saves openness metric as last column in the dataframe\n",
    "      - Saves dataframe as a csv in folder given by user\n",
    "  \n",
    " -----\n",
    " -----"
   ]
  },
  {
   "cell_type": "markdown",
   "id": "4827bb4c",
   "metadata": {},
   "source": [
    "## Setup\n",
    "\n",
    "Loading packages, setting logger levels"
   ]
  },
  {
   "cell_type": "code",
   "execution_count": 1,
   "id": "korean-madison",
   "metadata": {},
   "outputs": [],
   "source": [
    "#Importing my package\n",
    "import CanopyOpenness\n",
    "from CanopyOpenness import ImageLoad\n",
    "from CanopyOpenness import FishEye\n",
    "from CanopyOpenness import CanOpen\n",
    "from CanopyOpenness import BatchRun \n",
    "#Importing packages\n",
    "import glob #helping identify files in pathfiles\n",
    "import os #finding pathfiles\n",
    "import pathlib #getting pathfiles\n",
    "import pandas as pd #pandas for dataframe manipulation\n",
    "import numpy as np #statistical calculations\n",
    "import natsort #batch loading of files\n",
    "import skimage #image manipulation\n",
    "from skimage import io #filepaths in skimage\n",
    "import warnings #warnings package\n",
    "from loguru import logger #Logger for debugging messages"
   ]
  },
  {
   "cell_type": "code",
   "execution_count": 2,
   "id": "315bb371",
   "metadata": {},
   "outputs": [],
   "source": [
    "# Setting logging level\n",
    "CanopyOpenness.set_loglevel(\"DEBUG\")"
   ]
  },
  {
   "cell_type": "markdown",
   "id": "8bf37055",
   "metadata": {},
   "source": [
    "## Running BatchRun class object for batch processing"
   ]
  },
  {
   "cell_type": "code",
   "execution_count": 3,
   "id": "9db737f5",
   "metadata": {},
   "outputs": [],
   "source": [
    "# Defining user input\n",
    "dirpath = './sample_photos/Batch_Test/' #where photos are stored\n",
    "filepath = './Data/' #where dataframe will be saved\n",
    "filename = 'BatchTest2.csv' #name of dataframe to be saved"
   ]
  },
  {
   "cell_type": "code",
   "execution_count": 4,
   "id": "fab68e61",
   "metadata": {},
   "outputs": [],
   "source": [
    "# Running BatchRun class\n",
    "#    user inputs where images are stored, \n",
    "#    whether they want to save the dataframe output (defaults to false)\n",
    "#    and if so, where the dataframe is saved and what it's called\n",
    "\n",
    "doit = BatchRun.BatchRun(dirpath,filepath,filename,save=True)"
   ]
  },
  {
   "cell_type": "code",
   "execution_count": 5,
   "id": "0fcd0ed6",
   "metadata": {},
   "outputs": [
    {
     "name": "stdout",
     "output_type": "stream",
     "text": [
      "01:13 | DEBUG   | \u001b[1m\u001b[35mBatch          \u001b[0m\u001b[1m\u001b[0m | \u001b[34m\u001b[1mImage LFDP.394.12Dec2017.EV-2.AF.JPG Processed\u001b[0m\n",
      "01:13 | DEBUG   | \u001b[1m\u001b[35mBatch          \u001b[0m\u001b[1m\u001b[0m | \u001b[34m\u001b[1mImage LFDP.394.12Dec2017.EV-4.AF.JPG Processed\u001b[0m\n",
      "01:13 | DEBUG   | \u001b[1m\u001b[35mBatch          \u001b[0m\u001b[1m\u001b[0m | \u001b[34m\u001b[1mImage LFDP.394.12Dec2017.EV0.AF.JPG Processed\u001b[0m\n",
      "01:13 | DEBUG   | \u001b[1m\u001b[35mBatch          \u001b[0m\u001b[1m\u001b[0m | \u001b[34m\u001b[1mImage LFDP.397.12Dec2017.EV-2.AF.JPG Processed\u001b[0m\n",
      "01:13 | DEBUG   | \u001b[1m\u001b[35mBatch          \u001b[0m\u001b[1m\u001b[0m | \u001b[34m\u001b[1mImage LFDP.397.12Dec2017.EV-4.AF.JPG Processed\u001b[0m\n",
      "01:13 | DEBUG   | \u001b[1m\u001b[35mBatch          \u001b[0m\u001b[1m\u001b[0m | \u001b[34m\u001b[1mImage LFDP.397.12Dec2017.EV0.AF.JPG Processed\u001b[0m\n",
      "01:13 | DEBUG   | \u001b[1m\u001b[35mBatch          \u001b[0m\u001b[1m\u001b[0m | \u001b[34m\u001b[1mImage LFDP.400.11Dec2017.EV-2.M.JPG Processed\u001b[0m\n",
      "01:13 | DEBUG   | \u001b[1m\u001b[35mBatch          \u001b[0m\u001b[1m\u001b[0m | \u001b[34m\u001b[1mImage LFDP.400.11Dec2017.EV-4.M.JPG Processed\u001b[0m\n",
      "01:13 | DEBUG   | \u001b[1m\u001b[35mBatch          \u001b[0m\u001b[1m\u001b[0m | \u001b[34m\u001b[1mImage LFDP.400.11Dec2017.EV0.M.JPG Processed\u001b[0m\n",
      "01:13 | DEBUG   | \u001b[1m\u001b[35mBatch          \u001b[0m\u001b[1m\u001b[0m | \u001b[34m\u001b[1mImage LFDP.403.11Dec2017.EV-2.AF.JPG Processed\u001b[0m\n",
      "01:13 | DEBUG   | \u001b[1m\u001b[35mBatch          \u001b[0m\u001b[1m\u001b[0m | \u001b[34m\u001b[1mImage LFDP.403.11Dec2017.EV-4.AF.JPG Processed\u001b[0m\n",
      "01:13 | DEBUG   | \u001b[1m\u001b[35mBatch          \u001b[0m\u001b[1m\u001b[0m | \u001b[34m\u001b[1mImage LFDP.403.11Dec2017.EV0.AF.JPG Processed\u001b[0m\n",
      "01:13 | DEBUG   | \u001b[1m\u001b[35mBatch          \u001b[0m\u001b[1m\u001b[0m | \u001b[34m\u001b[1mImage LFDP.406.11Dec2017.EV-2.AF.JPG Processed\u001b[0m\n",
      "01:13 | DEBUG   | \u001b[1m\u001b[35mBatch          \u001b[0m\u001b[1m\u001b[0m | \u001b[34m\u001b[1mImage LFDP.406.11Dec2017.EV-4.AF.JPG Processed\u001b[0m\n",
      "01:13 | DEBUG   | \u001b[1m\u001b[35mBatch          \u001b[0m\u001b[1m\u001b[0m | \u001b[34m\u001b[1mImage LFDP.406.11Dec2017.EV0.AF.JPG Processed\u001b[0m\n",
      "01:13 | DEBUG   | \u001b[1m\u001b[35mBatch          \u001b[0m\u001b[1m\u001b[0m | \u001b[34m\u001b[1mDataframe successfully created\u001b[0m\n"
     ]
    },
    {
     "data": {
      "text/html": [
       "<div>\n",
       "<style scoped>\n",
       "    .dataframe tbody tr th:only-of-type {\n",
       "        vertical-align: middle;\n",
       "    }\n",
       "\n",
       "    .dataframe tbody tr th {\n",
       "        vertical-align: top;\n",
       "    }\n",
       "\n",
       "    .dataframe thead th {\n",
       "        text-align: right;\n",
       "    }\n",
       "</style>\n",
       "<table border=\"1\" class=\"dataframe\">\n",
       "  <thead>\n",
       "    <tr style=\"text-align: right;\">\n",
       "      <th></th>\n",
       "      <th>Plot</th>\n",
       "      <th>Subplot</th>\n",
       "      <th>Date</th>\n",
       "      <th>Exposure</th>\n",
       "      <th>Openness</th>\n",
       "    </tr>\n",
       "  </thead>\n",
       "  <tbody>\n",
       "    <tr>\n",
       "      <th>0</th>\n",
       "      <td>LFDP</td>\n",
       "      <td>394</td>\n",
       "      <td>12Dec2017</td>\n",
       "      <td>EV-2</td>\n",
       "      <td>0.382384</td>\n",
       "    </tr>\n",
       "    <tr>\n",
       "      <th>1</th>\n",
       "      <td>LFDP</td>\n",
       "      <td>394</td>\n",
       "      <td>12Dec2017</td>\n",
       "      <td>EV-4</td>\n",
       "      <td>0.333713</td>\n",
       "    </tr>\n",
       "    <tr>\n",
       "      <th>2</th>\n",
       "      <td>LFDP</td>\n",
       "      <td>394</td>\n",
       "      <td>12Dec2017</td>\n",
       "      <td>EV0</td>\n",
       "      <td>0.515455</td>\n",
       "    </tr>\n",
       "    <tr>\n",
       "      <th>3</th>\n",
       "      <td>LFDP</td>\n",
       "      <td>397</td>\n",
       "      <td>12Dec2017</td>\n",
       "      <td>EV-2</td>\n",
       "      <td>0.616088</td>\n",
       "    </tr>\n",
       "    <tr>\n",
       "      <th>4</th>\n",
       "      <td>LFDP</td>\n",
       "      <td>397</td>\n",
       "      <td>12Dec2017</td>\n",
       "      <td>EV-4</td>\n",
       "      <td>0.596442</td>\n",
       "    </tr>\n",
       "    <tr>\n",
       "      <th>5</th>\n",
       "      <td>LFDP</td>\n",
       "      <td>397</td>\n",
       "      <td>12Dec2017</td>\n",
       "      <td>EV0</td>\n",
       "      <td>0.693544</td>\n",
       "    </tr>\n",
       "    <tr>\n",
       "      <th>6</th>\n",
       "      <td>LFDP</td>\n",
       "      <td>400</td>\n",
       "      <td>11Dec2017</td>\n",
       "      <td>EV-2</td>\n",
       "      <td>0.375623</td>\n",
       "    </tr>\n",
       "    <tr>\n",
       "      <th>7</th>\n",
       "      <td>LFDP</td>\n",
       "      <td>400</td>\n",
       "      <td>11Dec2017</td>\n",
       "      <td>EV-4</td>\n",
       "      <td>0.303961</td>\n",
       "    </tr>\n",
       "    <tr>\n",
       "      <th>8</th>\n",
       "      <td>LFDP</td>\n",
       "      <td>400</td>\n",
       "      <td>11Dec2017</td>\n",
       "      <td>EV0</td>\n",
       "      <td>0.563061</td>\n",
       "    </tr>\n",
       "    <tr>\n",
       "      <th>9</th>\n",
       "      <td>LFDP</td>\n",
       "      <td>403</td>\n",
       "      <td>11Dec2017</td>\n",
       "      <td>EV-2</td>\n",
       "      <td>0.588104</td>\n",
       "    </tr>\n",
       "    <tr>\n",
       "      <th>10</th>\n",
       "      <td>LFDP</td>\n",
       "      <td>403</td>\n",
       "      <td>11Dec2017</td>\n",
       "      <td>EV-4</td>\n",
       "      <td>0.510695</td>\n",
       "    </tr>\n",
       "    <tr>\n",
       "      <th>11</th>\n",
       "      <td>LFDP</td>\n",
       "      <td>403</td>\n",
       "      <td>11Dec2017</td>\n",
       "      <td>EV0</td>\n",
       "      <td>0.728936</td>\n",
       "    </tr>\n",
       "    <tr>\n",
       "      <th>12</th>\n",
       "      <td>LFDP</td>\n",
       "      <td>406</td>\n",
       "      <td>11Dec2017</td>\n",
       "      <td>EV-2</td>\n",
       "      <td>0.619573</td>\n",
       "    </tr>\n",
       "    <tr>\n",
       "      <th>13</th>\n",
       "      <td>LFDP</td>\n",
       "      <td>406</td>\n",
       "      <td>11Dec2017</td>\n",
       "      <td>EV-4</td>\n",
       "      <td>0.576964</td>\n",
       "    </tr>\n",
       "    <tr>\n",
       "      <th>14</th>\n",
       "      <td>LFDP</td>\n",
       "      <td>406</td>\n",
       "      <td>11Dec2017</td>\n",
       "      <td>EV0</td>\n",
       "      <td>0.722429</td>\n",
       "    </tr>\n",
       "  </tbody>\n",
       "</table>\n",
       "</div>"
      ],
      "text/plain": [
       "    Plot Subplot       Date Exposure  Openness\n",
       "0   LFDP     394  12Dec2017     EV-2  0.382384\n",
       "1   LFDP     394  12Dec2017     EV-4  0.333713\n",
       "2   LFDP     394  12Dec2017      EV0  0.515455\n",
       "3   LFDP     397  12Dec2017     EV-2  0.616088\n",
       "4   LFDP     397  12Dec2017     EV-4  0.596442\n",
       "5   LFDP     397  12Dec2017      EV0  0.693544\n",
       "6   LFDP     400  11Dec2017     EV-2  0.375623\n",
       "7   LFDP     400  11Dec2017     EV-4  0.303961\n",
       "8   LFDP     400  11Dec2017      EV0  0.563061\n",
       "9   LFDP     403  11Dec2017     EV-2  0.588104\n",
       "10  LFDP     403  11Dec2017     EV-4  0.510695\n",
       "11  LFDP     403  11Dec2017      EV0  0.728936\n",
       "12  LFDP     406  11Dec2017     EV-2  0.619573\n",
       "13  LFDP     406  11Dec2017     EV-4  0.576964\n",
       "14  LFDP     406  11Dec2017      EV0  0.722429"
      ]
     },
     "execution_count": 5,
     "metadata": {},
     "output_type": "execute_result"
    }
   ],
   "source": [
    "# Checking that the batch function worked\n",
    "df = doit.Batch()\n",
    "\n",
    "# Show dataframe\n",
    "df"
   ]
  },
  {
   "cell_type": "code",
   "execution_count": 7,
   "id": "8c9d85bd",
   "metadata": {},
   "outputs": [
    {
     "data": {
      "text/plain": [
       "['BatchTest2.csv', 'Batch_Test_Dataframe.csv']"
      ]
     },
     "execution_count": 7,
     "metadata": {},
     "output_type": "execute_result"
    }
   ],
   "source": [
    "# Checking saving function works\n",
    "df2 = doit.SaveDF() #running function \n",
    "\n",
    "# List files in Data folder to check saving worked\n",
    "data_files = [f for f in os.listdir(filepath) if f.endswith('csv')]\n",
    "\n",
    "# Show folder files\n",
    "data_files #works (BatchTest2.csv)"
   ]
  },
  {
   "cell_type": "markdown",
   "id": "9ac25271",
   "metadata": {},
   "source": [
    "---\n",
    "---\n",
    "\n",
    "# Depreceated code showing function\n",
    "\n",
    "---\n",
    "---"
   ]
  },
  {
   "cell_type": "markdown",
   "id": "6bd07958",
   "metadata": {},
   "source": [
    "## Getting image files from directory\n",
    "\n",
    "Getting user input (filepath for directory containing image files.  \n",
    "Then saving each individual image as an item in a list.  \n",
    "Then creating a dataframe with metadata from image names, and an empty column to hold canopy openness values"
   ]
  },
  {
   "cell_type": "code",
   "execution_count": null,
   "id": "according-slovakia",
   "metadata": {},
   "outputs": [],
   "source": [
    "# #Defining user input\n",
    "# filepath = './sample_photos/Batch_Test/' #where photos are stored"
   ]
  },
  {
   "cell_type": "code",
   "execution_count": null,
   "id": "8e0bba60",
   "metadata": {},
   "outputs": [],
   "source": [
    "# #iterate through all images in the folder and save as a list\n",
    "# all_images = [f for f in os.listdir(filepath) if f.endswith('JPG')]\n",
    "\n",
    "# #sort the list\n",
    "# all_images.sort()\n",
    "\n",
    "# #check\n",
    "# all_images"
   ]
  },
  {
   "cell_type": "code",
   "execution_count": null,
   "id": "5f6d695c",
   "metadata": {},
   "outputs": [],
   "source": [
    "# # create an Empty DataFrame object\n",
    "# df = pd.DataFrame(columns=['Plot','Subplot','Date','Exposure','Openness'])\n",
    "\n",
    "# #split image by period to get different columns\n",
    "# df['Plot'] = [i.split('.')[0] for i in all_images]  # get first item in list of images\n",
    "# df['Subplot'] = [i.split('.')[1] for i in all_images]  # get subplot information (second item)\n",
    "# df['Date'] = [i.split('.')[2] for i in all_images]  # get date information (third item)\n",
    "# df['Exposure'] = [i.split('.')[3] for i in all_images]  # get exposure information (fourth item)\n",
    "\n",
    "# #check\n",
    "# df"
   ]
  },
  {
   "cell_type": "markdown",
   "id": "aaf2c100",
   "metadata": {},
   "source": [
    "## Batch processing function\n",
    "\n",
    "Code to create an empty list to hold openness values.  \n",
    "Then iterating over all the image files and running ImagePrep, FishEye, and CanOpen modules to calculate openness for each image.  \n",
    "Then storing those values in the empty column in the dataframe containing the image metadata.  \n",
    "Finally storing the resultant dataframe as a csv for the user"
   ]
  },
  {
   "cell_type": "code",
   "execution_count": null,
   "id": "e77c3f58",
   "metadata": {},
   "outputs": [],
   "source": [
    "# #create empty list to hold results\n",
    "# results = []\n",
    "\n",
    "# #iterate through list of images and run CanopyOpenness functions\n",
    "# for image in all_images:\n",
    "    \n",
    "#     #load image and threshold using isodata algorithm, don't plot, set to batch\n",
    "#     img = ImageLoad.ImagePrep(filepath,image,threshold_method=\"isodata\",plot=False,batch=True)\n",
    "#     #load image\n",
    "#     og = img.imageLoad()\n",
    "#     #turn blue \n",
    "#     blue = img.BluePic()\n",
    "#     #threshold algorithm and turn to black and white\n",
    "#     bw = img.bwPic()\n",
    "    \n",
    "#     #set fisheye coordinates for center lens, don't plot, set to batch\n",
    "#     fish = FishEye.FishEye(bw,plot=False,batch=True)\n",
    "#     #save image array with coordinates\n",
    "#     fishy = fish.CircleCoords()\n",
    "    \n",
    "#     #run canopy openness module, set to batch\n",
    "#     gfp = CanOpen.CanOpen(fishy,batch=True) #running module\n",
    "#     gaps=gfp.calc_gap_fractions() #calculating array of proportion sky for 89 sub-circles within fisheye lens\n",
    "#     openness=gfp.openness() #openness calculation\n",
    "    \n",
    "#     #print message to user\n",
    "#     print(\"Image\",image, \"processed\")\n",
    "\n",
    "#     #appending to result list\n",
    "#     results.append(openness)"
   ]
  },
  {
   "cell_type": "code",
   "execution_count": null,
   "id": "97bc74fe",
   "metadata": {},
   "outputs": [],
   "source": [
    "# #add values from result to the dataframe\n",
    "# df['Openness'] = results\n",
    "\n",
    "# #check\n",
    "# df"
   ]
  },
  {
   "cell_type": "code",
   "execution_count": null,
   "id": "7b1c03d6",
   "metadata": {},
   "outputs": [],
   "source": [
    "# #saving dataframe as a csv\n",
    "# df.to_csv(r'./Data/Batch_Test_Dataframe.csv', index = False)"
   ]
  }
 ],
 "metadata": {
  "kernelspec": {
   "display_name": "Python 3",
   "language": "python",
   "name": "python3"
  },
  "language_info": {
   "codemirror_mode": {
    "name": "ipython",
    "version": 3
   },
   "file_extension": ".py",
   "mimetype": "text/x-python",
   "name": "python",
   "nbconvert_exporter": "python",
   "pygments_lexer": "ipython3",
   "version": "3.8.5"
  }
 },
 "nbformat": 4,
 "nbformat_minor": 5
}
